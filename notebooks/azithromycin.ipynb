{
 "cells": [
  {
   "cell_type": "code",
   "execution_count": null,
   "metadata": {},
   "outputs": [],
   "source": []
  },
  {
   "cell_type": "code",
   "execution_count": 1,
   "metadata": {},
   "outputs": [],
   "source": [
    "from ebmdatalab import bq\n",
    "import os\n",
    "import pandas as pd"
   ]
  },
  {
   "cell_type": "code",
   "execution_count": null,
   "metadata": {},
   "outputs": [
    {
     "name": "stdout",
     "output_type": "stream",
     "text": [
      "Please visit this URL to authorize this application: https://accounts.google.com/o/oauth2/auth?response_type=code&client_id=725825577420-unm2gnkiprugilg743tkbig250f4sfsj.apps.googleusercontent.com&redirect_uri=urn%3Aietf%3Awg%3Aoauth%3A2.0%3Aoob&scope=https%3A%2F%2Fwww.googleapis.com%2Fauth%2Fbigquery&state=xiJfIhR2UxBalfdTIKsSbPbGNG1hMu&prompt=consent&access_type=offline\n"
     ]
    }
   ],
   "source": [
    "sql = '''WITH bnf_codes AS (\n",
    "  SELECT bnf_code FROM hscic.presentation WHERE \n",
    "    bnf_code LIKE '0501050A0%' #BNF chmeical azithromycin not including eye drops which are chap 11\n",
    " \n",
    "  )\n",
    "\n",
    "SELECT \"vmp\" AS type, id, bnf_code, nm\n",
    "FROM dmd.vmp\n",
    "WHERE bnf_code IN (SELECT * FROM bnf_codes)\n",
    "\n",
    "UNION ALL\n",
    "\n",
    "SELECT \"amp\" AS type, id, bnf_code, descr\n",
    "FROM dmd.amp\n",
    "WHERE bnf_code IN (SELECT * FROM bnf_codes)\n",
    "\n",
    "ORDER BY type, bnf_code, id'''\n",
    "\n",
    "azithromycin_codelist = bq.cached_read(sql, csv_path=os.path.join('..','data','azithromycin_codelist.csv'))\n",
    "pd.set_option('display.max_rows', None)\n",
    "azithromycin_codelist"
   ]
  },
  {
   "cell_type": "code",
   "execution_count": null,
   "metadata": {},
   "outputs": [],
   "source": []
  }
 ],
 "metadata": {
  "jupytext": {
   "cell_metadata_filter": "all",
   "notebook_metadata_filter": "all,-language_info",
   "text_representation": {
    "extension": ".py",
    "format_name": "light",
    "format_version": "1.5",
    "jupytext_version": "1.3.3"
   }
  },
  "kernelspec": {
   "display_name": "Python 3",
   "language": "python",
   "name": "python3"
  },
  "language_info": {
   "codemirror_mode": {
    "name": "ipython",
    "version": 3
   },
   "file_extension": ".py",
   "mimetype": "text/x-python",
   "name": "python",
   "nbconvert_exporter": "python",
   "pygments_lexer": "ipython3",
   "version": "3.8.1"
  }
 },
 "nbformat": 4,
 "nbformat_minor": 4
}
